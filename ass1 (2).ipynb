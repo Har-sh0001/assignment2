{
 "cells": [
  {
   "cell_type": "code",
   "execution_count": null,
   "id": "372da9ad-1b76-4af9-bcf0-0ba2598774fe",
   "metadata": {},
   "outputs": [],
   "source": [
    "# Q2. Write a python program to print the sum and product of the first 10 natural numbers using for\n",
    "#     and while loop."
   ]
  },
  {
   "cell_type": "code",
   "execution_count": 15,
   "id": "97320a68-31ba-4e2e-879d-6fe05aba1331",
   "metadata": {},
   "outputs": [
    {
     "name": "stdout",
     "output_type": "stream",
     "text": [
      "1\n",
      "3\n",
      "6\n",
      "10\n",
      "15\n",
      "21\n",
      "28\n",
      "36\n",
      "45\n",
      "55\n"
     ]
    }
   ],
   "source": [
    "n = 10\n",
    "sum1 = 0\n",
    "for i in range(1,n+1):\n",
    "    sum1 = sum1 +i\n",
    "    i = i+1\n",
    "    print (sum1)"
   ]
  },
  {
   "cell_type": "code",
   "execution_count": 16,
   "id": "090efcab-c571-4e6f-b795-7689aba760b6",
   "metadata": {},
   "outputs": [
    {
     "name": "stdout",
     "output_type": "stream",
     "text": [
      "10\n",
      "19\n",
      "27\n",
      "34\n",
      "40\n",
      "45\n",
      "49\n",
      "52\n",
      "54\n",
      "55\n"
     ]
    }
   ],
   "source": [
    "# using while loop\n",
    "n = 10\n",
    "sum2 = 0\n",
    "while (n>0):\n",
    "    sum2 = sum2+n\n",
    "    n = n-1\n",
    "    print(sum2)"
   ]
  },
  {
   "cell_type": "code",
   "execution_count": null,
   "id": "7ecc6d2d-3b19-41aa-9b21-df782fcf09e6",
   "metadata": {},
   "outputs": [],
   "source": [
    "# Q3. Create a python program to compute the electricity bill for a household.\n",
    "# The per-unit charges in rupees are as follows: For the first 100 units, the user will be charged Rs. 4.5 per\n",
    "# unit, for the next 100 units, the user will be charged Rs. 6 per unit, and for the next 100 units, the user will\n",
    "# be charged Rs. 10 per unit, After 300 units and above the user will be charged Rs. 20 per unit.\n"
   ]
  },
  {
   "cell_type": "code",
   "execution_count": 19,
   "id": "412964d1-0dc9-45dd-a6d9-f45eb94153f5",
   "metadata": {},
   "outputs": [
    {
     "name": "stdin",
     "output_type": "stream",
     "text": [
      "Enter the electricity units consumed in a month  310\n"
     ]
    },
    {
     "name": "stdout",
     "output_type": "stream",
     "text": [
      "the total electricity bill is  2250.0\n"
     ]
    }
   ],
   "source": [
    "unit = int(input(\"Enter the electricity units consumed in a month \"))\n",
    "# making the case \n",
    "if unit <=100:\n",
    "     electricity_bill = unit * 4.5\n",
    "    #print (\"electricity bill is \", electricity_bill)\n",
    "elif 100<unit<200 :\n",
    "     electricity_bill = 100* 4.5 + (unit - 100)*6\n",
    "elif 200< unit<=300 :\n",
    "     electricity_bill = 100 *4.5 + 100 *6 + (unit -200)*10\n",
    "else :\n",
    "     electricity_bill = 100*4.5 + 100 *6 + 100 *10 +(unit - 300)*20\n",
    "print (\"the total electricity bill is \", electricity_bill)"
   ]
  },
  {
   "cell_type": "code",
   "execution_count": null,
   "id": "81c980eb-4ef9-4fe5-8279-1e6244da621c",
   "metadata": {},
   "outputs": [],
   "source": [
    "# Q4. Create a list of numbers from 1 to 100. Use for loop and while loop to calculate the cube of each\n",
    "#     number and if the cube of that number is divisible by 4 or 5 then append that number in a list and print\n",
    "#     that list."
   ]
  },
  {
   "cell_type": "code",
   "execution_count": 21,
   "id": "88028863-4770-4e7d-83c9-c4d53f1625cd",
   "metadata": {},
   "outputs": [],
   "source": [
    "l = []\n",
    "for i in range(1,100):\n",
    "    if (i**3)%4==0 or (i**3)%5==0:\n",
    "        l.append(i)"
   ]
  },
  {
   "cell_type": "code",
   "execution_count": 22,
   "id": "188420c8-8721-4122-bd33-77f1b1f05907",
   "metadata": {},
   "outputs": [
    {
     "data": {
      "text/plain": [
       "[2,\n",
       " 4,\n",
       " 5,\n",
       " 6,\n",
       " 8,\n",
       " 10,\n",
       " 12,\n",
       " 14,\n",
       " 15,\n",
       " 16,\n",
       " 18,\n",
       " 20,\n",
       " 22,\n",
       " 24,\n",
       " 25,\n",
       " 26,\n",
       " 28,\n",
       " 30,\n",
       " 32,\n",
       " 34,\n",
       " 35,\n",
       " 36,\n",
       " 38,\n",
       " 40,\n",
       " 42,\n",
       " 44,\n",
       " 45,\n",
       " 46,\n",
       " 48,\n",
       " 50,\n",
       " 52,\n",
       " 54,\n",
       " 55,\n",
       " 56,\n",
       " 58,\n",
       " 60,\n",
       " 62,\n",
       " 64,\n",
       " 65,\n",
       " 66,\n",
       " 68,\n",
       " 70,\n",
       " 72,\n",
       " 74,\n",
       " 75,\n",
       " 76,\n",
       " 78,\n",
       " 80,\n",
       " 82,\n",
       " 84,\n",
       " 85,\n",
       " 86,\n",
       " 88,\n",
       " 90,\n",
       " 92,\n",
       " 94,\n",
       " 95,\n",
       " 96,\n",
       " 98]"
      ]
     },
     "execution_count": 22,
     "metadata": {},
     "output_type": "execute_result"
    }
   ],
   "source": [
    "l"
   ]
  },
  {
   "cell_type": "code",
   "execution_count": null,
   "id": "2deadae9-0370-49b9-9a37-fbe90e407372",
   "metadata": {},
   "outputs": [],
   "source": [
    "# using while loop"
   ]
  },
  {
   "cell_type": "code",
   "execution_count": 1,
   "id": "108c09cd-7fac-4dad-8881-410d357d825d",
   "metadata": {},
   "outputs": [
    {
     "name": "stdout",
     "output_type": "stream",
     "text": [
      "[2, 4, 5, 6, 8, 10, 12, 14, 15, 16, 18, 20, 22, 24, 25, 26, 28, 30, 32, 34, 35, 36, 38, 40, 42, 44, 45, 46, 48, 50, 52, 54, 55, 56, 58, 60, 62, 64, 65, 66, 68, 70, 72, 74, 75, 76, 78, 80, 82, 84, 85, 86, 88, 90, 92, 94, 95, 96, 98]\n"
     ]
    }
   ],
   "source": [
    "l1 = []\n",
    "n1 = 1\n",
    "while (n1<100):\n",
    "    cube_n = n1**3\n",
    "    if (cube_n %4==0) or (cube_n %5==0):\n",
    "    \n",
    "        l1.append(n1)\n",
    "    n1 = n1 +1    \n",
    "print(l1) "
   ]
  },
  {
   "cell_type": "code",
   "execution_count": null,
   "id": "a52dfa38-7870-4812-b7be-6fff22993d3d",
   "metadata": {},
   "outputs": [],
   "source": []
  },
  {
   "cell_type": "code",
   "execution_count": null,
   "id": "96bfb1b7-59cf-41b7-a19e-7d2d51c1f91c",
   "metadata": {},
   "outputs": [],
   "source": []
  },
  {
   "cell_type": "code",
   "execution_count": null,
   "id": "249ae4b7-6f27-4ec7-ab02-c1f96731ac7b",
   "metadata": {},
   "outputs": [],
   "source": [
    "# Q5. Write a program to filter count vowels in the below-given string.\n",
    "# string = \"I want to become a data scientist\""
   ]
  },
  {
   "cell_type": "code",
   "execution_count": 3,
   "id": "972db24f-d95f-4820-8958-8608760f222b",
   "metadata": {},
   "outputs": [],
   "source": [
    "def check_vowels (string,vowels):\n",
    "    final = [each for each in string if each in vowels]\n",
    "    print(len(final))\n",
    "    print(final)\n",
    "string = \"I want to become a data scientist\"\n",
    "vowels = \"aAeEiIoOuU\"\n"
   ]
  },
  {
   "cell_type": "code",
   "execution_count": 4,
   "id": "ffd8a4ba-21bf-4ebf-97fb-d105f98c110d",
   "metadata": {},
   "outputs": [
    {
     "name": "stdout",
     "output_type": "stream",
     "text": [
      "12\n",
      "['I', 'a', 'o', 'e', 'o', 'e', 'a', 'a', 'a', 'i', 'e', 'i']\n"
     ]
    }
   ],
   "source": [
    "check_vowels(string,vowels)"
   ]
  },
  {
   "cell_type": "code",
   "execution_count": null,
   "id": "555e4e02-c778-4ca8-8d7b-e8086bf6c05f",
   "metadata": {},
   "outputs": [],
   "source": []
  },
  {
   "cell_type": "code",
   "execution_count": null,
   "id": "3dcfe830-79cc-4e2e-9a5d-0ffb3f21974d",
   "metadata": {},
   "outputs": [],
   "source": []
  }
 ],
 "metadata": {
  "kernelspec": {
   "display_name": "Python 3 (ipykernel)",
   "language": "python",
   "name": "python3"
  },
  "language_info": {
   "codemirror_mode": {
    "name": "ipython",
    "version": 3
   },
   "file_extension": ".py",
   "mimetype": "text/x-python",
   "name": "python",
   "nbconvert_exporter": "python",
   "pygments_lexer": "ipython3",
   "version": "3.10.8"
  }
 },
 "nbformat": 4,
 "nbformat_minor": 5
}
