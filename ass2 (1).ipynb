{
 "cells": [
  {
   "cell_type": "code",
   "execution_count": null,
   "id": "865f4e3f-d349-49ad-8b2c-32e35e7ed5ac",
   "metadata": {},
   "outputs": [],
   "source": []
  },
  {
   "cell_type": "code",
   "execution_count": null,
   "id": "09dacedd-c924-4f64-a178-13eb9f654cee",
   "metadata": {},
   "outputs": [],
   "source": [
    "# qus.1 Which keyword is used to create a function? Create a function to return a list of odd numbers in the\n",
    "# range of 1 to 25."
   ]
  },
  {
   "cell_type": "code",
   "execution_count": 37,
   "id": "25867dad-1e98-462c-b23b-e43fd1861027",
   "metadata": {},
   "outputs": [],
   "source": [
    "def odd_numbers(n):\n",
    "\treturn [x for x in range(0, n) if x%2 != 0]"
   ]
  },
  {
   "cell_type": "code",
   "execution_count": 38,
   "id": "f2863172-18e5-47fb-9009-cc082af83253",
   "metadata": {},
   "outputs": [
    {
     "data": {
      "text/plain": [
       "[1, 3, 5, 7, 9, 11, 13, 15, 17, 19, 21, 23]"
      ]
     },
     "execution_count": 38,
     "metadata": {},
     "output_type": "execute_result"
    }
   ],
   "source": [
    "odd_numbers(25)"
   ]
  },
  {
   "cell_type": "code",
   "execution_count": 39,
   "id": "781ea67b-7693-4999-91e9-c24497a2ca6d",
   "metadata": {},
   "outputs": [],
   "source": [
    " # qus.2 Why *args and **kwargs is used in some functions? Create a function each for *args and **kwargs\n",
    "# to demonstrate their use."
   ]
  },
  {
   "cell_type": "code",
   "execution_count": 40,
   "id": "07eacf4d-40f8-40fa-a159-3e08a2ebbc27",
   "metadata": {},
   "outputs": [],
   "source": [
    "# *args is used for to take n number of value variable.\n",
    "# **kwargs is used for to take n number of key value variable ( Dictionary )."
   ]
  },
  {
   "cell_type": "code",
   "execution_count": 42,
   "id": "71649b7e-c453-4cf3-9bc7-78ffd2f56575",
   "metadata": {},
   "outputs": [],
   "source": [
    "def test(*args):\n",
    "    return (args)\n",
    "    "
   ]
  },
  {
   "cell_type": "code",
   "execution_count": 43,
   "id": "31090f77-33e8-4ea1-ab56-f42bc4710793",
   "metadata": {},
   "outputs": [
    {
     "data": {
      "text/plain": [
       "(43, 65, 87, 6, 3, 6)"
      ]
     },
     "execution_count": 43,
     "metadata": {},
     "output_type": "execute_result"
    }
   ],
   "source": [
    "test(43,65,87,6,3,6)"
   ]
  },
  {
   "cell_type": "code",
   "execution_count": 67,
   "id": "da946b2d-9442-4482-ae89-486a71a39f8c",
   "metadata": {},
   "outputs": [],
   "source": [
    "def test1(**kwargs):\n",
    "    return(kwargs)"
   ]
  },
  {
   "cell_type": "code",
   "execution_count": 71,
   "id": "0d2914f5-3367-47ae-926a-ddcdcf549417",
   "metadata": {},
   "outputs": [
    {
     "data": {
      "text/plain": [
       "{'a': [4, 6, 8], 'b': 'harsh'}"
      ]
     },
     "execution_count": 71,
     "metadata": {},
     "output_type": "execute_result"
    }
   ],
   "source": [
    "test1( a=[4,6,8], b= \"harsh\")"
   ]
  },
  {
   "cell_type": "code",
   "execution_count": 72,
   "id": "7ae42b32-6114-46cc-9f5d-3ff706834504",
   "metadata": {},
   "outputs": [],
   "source": [
    "# qus.3 What is an iterator in python? Name the method used to initialise the iterator object and the method\n",
    "# used for iteration. Use these methods to print the first five elements of the given list [2, 4, 6, 8, 10, 12, 14,\n",
    "# 16, 18, 20]."
   ]
  },
  {
   "cell_type": "code",
   "execution_count": 74,
   "id": "1966283b-6931-485e-9694-6f3b218bc39e",
   "metadata": {},
   "outputs": [],
   "source": [
    "# Iterator in Python is an object that is used to iterate over iterable objects like lists, tuples, dicts, and sets. The iterator object is initialized using the iter() method. It uses the next() method for iteration.\n",
    "\n",
    "# __iter__(): The iter() method is called for the initialization of an iterator. This returns an iterator object"
   ]
  },
  {
   "cell_type": "code",
   "execution_count": 104,
   "id": "8559e73a-34d4-4e25-8b28-7072636048be",
   "metadata": {},
   "outputs": [
    {
     "name": "stdout",
     "output_type": "stream",
     "text": [
      "2\n",
      "4\n",
      "6\n",
      "8\n",
      "10\n"
     ]
    }
   ],
   "source": [
    "list = [2, 4, 6, 8, 10, 12, 14,16, 18, 20]\n",
    "# initialize the iter object\n",
    "list_iter = iter(list)\n",
    "\n",
    "#use the iter object and print first five element of list\n",
    "for i in range(5):\n",
    "    print(next(list_iter))\n",
    "        \n",
    "        "
   ]
  },
  {
   "cell_type": "code",
   "execution_count": 105,
   "id": "113eda6f-4080-4e28-865d-41f6eb4b47f1",
   "metadata": {},
   "outputs": [],
   "source": [
    "# qus.4 What is a generator function in python? Why yield keyword is used? Give an example of a generator\n",
    "# function."
   ]
  },
  {
   "cell_type": "code",
   "execution_count": null,
   "id": "dcce406d-4206-4d9d-b700-d04195d87b6d",
   "metadata": {},
   "outputs": [],
   "source": [
    "#Generator function in Python is a function that is commonly used to return a sequence of values. Generator function behaves like a normal function but rather it uses a yield statement to return a value instead of return statement. If the body of a function contains yield statement, the function automatically becomes a generator function."
   ]
  },
  {
   "cell_type": "code",
   "execution_count": 115,
   "id": "92f5c10d-7f1b-434c-802f-0b173516ec82",
   "metadata": {},
   "outputs": [
    {
     "name": "stdout",
     "output_type": "stream",
     "text": [
      "3\n",
      "5\n",
      "harsh\n"
     ]
    }
   ],
   "source": [
    "def generator_function():\n",
    "    yield 3\n",
    "    yield 5\n",
    "    yield \"harsh\"\n",
    "    \n",
    "for i in generator_function():\n",
    "    print(i)"
   ]
  },
  {
   "cell_type": "code",
   "execution_count": 116,
   "id": "25625d28-4fc6-4b8e-bd22-ee7f37c60662",
   "metadata": {},
   "outputs": [],
   "source": [
    "# qus.5 Create a generator function for prime numbers less than 1000. Use the next() method to print the\n",
    "#first 20 prime numbers."
   ]
  },
  {
   "cell_type": "code",
   "execution_count": 129,
   "id": "5a675837-c26c-4c0b-811a-6e931ee219b9",
   "metadata": {},
   "outputs": [
    {
     "name": "stdout",
     "output_type": "stream",
     "text": [
      "179\n",
      "181\n",
      "191\n",
      "193\n",
      "197\n",
      "199\n",
      "211\n",
      "223\n",
      "227\n",
      "229\n",
      "233\n",
      "239\n",
      "241\n",
      "251\n",
      "257\n",
      "263\n",
      "269\n",
      "271\n",
      "277\n",
      "281\n"
     ]
    }
   ],
   "source": [
    "def prime_number():\n",
    "    i_prime = []\n",
    "    for k in range(2,1000):\n",
    "        for p in i_prime:\n",
    "            if k % p == 0:\n",
    "                break\n",
    "        else:\n",
    "            i_prime.append(k)\n",
    "            yield k\n",
    "            \n",
    "prime_number()\n",
    "for i in range(20):\n",
    "    print(next(n))"
   ]
  },
  {
   "cell_type": "code",
   "execution_count": 1,
   "id": "9f6cf979-a6b6-4cac-8f48-e4f9038339c6",
   "metadata": {},
   "outputs": [],
   "source": [
    "# qus.6 Write a python program to print the first 10 Fibonacci numbers using a while loop."
   ]
  },
  {
   "cell_type": "code",
   "execution_count": 31,
   "id": "9594c1ef-a0d3-4cf3-b766-d96071f0ef71",
   "metadata": {},
   "outputs": [
    {
     "name": "stdin",
     "output_type": "stream",
     "text": [
      "how many terms 1\n"
     ]
    },
    {
     "name": "stdout",
     "output_type": "stream",
     "text": [
      "0\n"
     ]
    }
   ],
   "source": [
    "n = int(input( \"how many terms\"))\n",
    "a,b = 0,1\n",
    "i =0\n",
    "\n",
    "if n<0 :\n",
    "    print(\"enter positive value\")\n",
    "elif n==1:\n",
    "    print(a)\n",
    "else :\n",
    "    print(\"fibonacci sequence\")\n",
    "    while i <n :\n",
    "        print(a)\n",
    "        \n",
    "        c =a+b\n",
    "        a=b\n",
    "        b= c\n",
    "        i = i+1"
   ]
  },
  {
   "cell_type": "code",
   "execution_count": null,
   "id": "7f421262-72a0-4b55-a884-808c3cfb74e3",
   "metadata": {},
   "outputs": [],
   "source": [
    "# Q7. Write a List Comprehension to iterate through the given string: ‘pwskills’.\n",
    "#     Expected output: ['p', 'w', 's', 'k', 'i', 'l', 'l', 's']"
   ]
  },
  {
   "cell_type": "code",
   "execution_count": 67,
   "id": "b2a3eef2-94f3-44fd-be72-e3fdda6c37a2",
   "metadata": {},
   "outputs": [
    {
     "data": {
      "text/plain": [
       "['p', 'w', 's', 'k', 'i', 'l', 'l', 's']"
      ]
     },
     "execution_count": 67,
     "metadata": {},
     "output_type": "execute_result"
    }
   ],
   "source": [
    "l = []\n",
    "\n",
    "[ i for i in \"pwskills\"]\n",
    "\n"
   ]
  },
  {
   "cell_type": "code",
   "execution_count": null,
   "id": "d4dfdf1d-3239-476b-b8e0-c8d070a67efe",
   "metadata": {},
   "outputs": [],
   "source": [
    "# Q8. Write a python program to check whether a given number is Palindrome or not using a while loop."
   ]
  },
  {
   "cell_type": "code",
   "execution_count": 71,
   "id": "8bd07c70-c936-4bd1-a6a2-eb1d9d3d267c",
   "metadata": {},
   "outputs": [
    {
     "name": "stdin",
     "output_type": "stream",
     "text": [
      "enter the number  12345321\n"
     ]
    },
    {
     "name": "stdout",
     "output_type": "stream",
     "text": [
      "the number is not a palindrome\n"
     ]
    }
   ],
   "source": [
    "num = (input(\"enter the number \"))\n",
    "if num == num[::-1]:\n",
    "    print(\"the number is palindrome\")\n",
    "else :\n",
    "    print(\"the number is not a palindrome\")\n",
    " "
   ]
  },
  {
   "cell_type": "code",
   "execution_count": 72,
   "id": "43750d81-9132-4e89-b6a7-b8431acdb780",
   "metadata": {},
   "outputs": [],
   "source": [
    "# Q9. Write a code to print odd numbers from 1 to 100 using list comprehension."
   ]
  },
  {
   "cell_type": "code",
   "execution_count": null,
   "id": "5c201b22-86e4-40e3-b05a-de8a9d00c46e",
   "metadata": {},
   "outputs": [],
   "source": [
    "get"
   ]
  }
 ],
 "metadata": {
  "kernelspec": {
   "display_name": "Python 3 (ipykernel)",
   "language": "python",
   "name": "python3"
  },
  "language_info": {
   "codemirror_mode": {
    "name": "ipython",
    "version": 3
   },
   "file_extension": ".py",
   "mimetype": "text/x-python",
   "name": "python",
   "nbconvert_exporter": "python",
   "pygments_lexer": "ipython3",
   "version": "3.10.8"
  }
 },
 "nbformat": 4,
 "nbformat_minor": 5
}
